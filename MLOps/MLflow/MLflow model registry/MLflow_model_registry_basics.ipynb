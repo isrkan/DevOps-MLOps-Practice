{
 "cells": [
  {
   "cell_type": "markdown",
   "id": "2973a0eb-eefc-4f30-b3ae-cf9995d7eecc",
   "metadata": {},
   "source": [
    "# MLflow model registry\n",
    "\n",
    "In this notebook, we will explore the MLflow model registry component. The MLflow model registry is a centralized repository where we can store, annotate, and manage our machine learning models. It provides features like versioning, stage transitions (e.g., Staging, Production), and model lineage, which help in managing the lifecycle of our models."
   ]
  },
  {
   "cell_type": "code",
   "execution_count": 1,
   "id": "2d8620af-6213-44d3-8127-95b88997f294",
   "metadata": {},
   "outputs": [],
   "source": [
    "import mlflow\n",
    "import mlflow.sklearn\n",
    "from mlflow.models import infer_signature\n",
    "from sklearn.datasets import load_iris\n",
    "from sklearn.model_selection import train_test_split\n",
    "from sklearn.ensemble import RandomForestClassifier\n",
    "from sklearn.linear_model import LogisticRegression\n",
    "from sklearn.tree import DecisionTreeClassifier\n",
    "\n",
    "import warnings\n",
    "warnings.filterwarnings('ignore')"
   ]
  },
  {
   "cell_type": "code",
   "execution_count": 2,
   "id": "d3fd3208-dfae-4b3f-ad75-266922bd8dbf",
   "metadata": {},
   "outputs": [],
   "source": [
    "# Load dataset\n",
    "iris = load_iris()\n",
    "X_train, X_test, y_train, y_test = train_test_split(iris.data, iris.target, test_size=0.2, random_state=42)"
   ]
  },
  {
   "cell_type": "markdown",
   "id": "f830489c-ccac-48d1-9f35-6bf31ff27e6c",
   "metadata": {},
   "source": [
    "### Logging to a tracking server\n",
    "First we need to ensure that we have an MLflow Tracking Server running, as the Model Registry is tightly integrated with the tracking server."
   ]
  },
  {
   "cell_type": "code",
   "execution_count": 3,
   "id": "d78026ac-b7dd-4b58-a175-4bf1912bec8c",
   "metadata": {},
   "outputs": [],
   "source": [
    "# Set the tracking URI (optional if you're running a local server)\n",
    "mlflow.set_tracking_uri(\"http://localhost:5000\")"
   ]
  },
  {
   "cell_type": "markdown",
   "id": "1a609194-2348-42cb-ade2-b5cdfa740520",
   "metadata": {},
   "source": [
    "- `mlflow.set_tracking_uri(\"http://localhost:5000\")`: Connects to the MLflow Tracking Server. If we are running a local server, we nned to ensure it is up and running.\n",
    "\n",
    "### Setting up the experiment"
   ]
  },
  {
   "cell_type": "code",
   "execution_count": 4,
   "id": "e6073a21-84b2-4b5e-8e46-844cf9778383",
   "metadata": {},
   "outputs": [
    {
     "name": "stderr",
     "output_type": "stream",
     "text": [
      "2024/08/29 16:53:35 INFO mlflow.tracking.fluent: Experiment with name 'MLflow Model Registry Example' does not exist. Creating a new experiment.\n"
     ]
    },
    {
     "data": {
      "text/plain": [
       "<Experiment: artifact_location='file:///C:/Users/israe/Documents/Codes/Notebooks/mlruns/678057457486770417', creation_time=1724943215764, experiment_id='678057457486770417', last_update_time=1724943215764, lifecycle_stage='active', name='MLflow Model Registry Example', tags={}>"
      ]
     },
     "execution_count": 4,
     "metadata": {},
     "output_type": "execute_result"
    }
   ],
   "source": [
    "# Create a new experiment\n",
    "mlflow.set_experiment(\"MLflow Model Registry Example\")"
   ]
  },
  {
   "cell_type": "markdown",
   "id": "341d8bbb-5de1-41ee-a1ad-3d7091fd421d",
   "metadata": {},
   "source": [
    "## Register models\n",
    "we will demonstrate two methods to register models, using `mlflow.log_model()` and `mlflow.register_model()`. These methods create in the `mlruns` directory:\n",
    "- **Model artifacts**: Both methods log the model artifacts (like `.pkl` files for scikit-learn models) in the `mlruns` directory. This directory contains subdirectories for each experiment and run, organized by experiment ID and run ID. Within each run directory, we will find:\n",
    "  - The `artifacts` directory, which contains the logged model files.\n",
    "  - Metadata files like `meta.yaml` that describe the run and the logged model.\n",
    "- **Model registry metadata**: When a model is registered, metadata about the model version, aliases, and other details are stored under the registered model name folder in the `mlruns/models` directory. This is managed by the MLflow Tracking Server and is separate from the experiment directories.\n",
    "\n",
    "\n",
    "### Method 1: Register a model using `mlflow.log_model()`\n",
    "In this method, we use `mlflow.log_model()` to log and register a random forest model in one step. We will use this method when we want to log and register a model in one step. It’s less flexible but faster, straightforward and efficient for most use cases."
   ]
  },
  {
   "cell_type": "code",
   "execution_count": 5,
   "id": "c285928e-974e-439a-8c00-f2fa63f9164b",
   "metadata": {},
   "outputs": [
    {
     "name": "stderr",
     "output_type": "stream",
     "text": [
      "Successfully registered model 'random-forest-class-model'.\n",
      "2024/08/29 16:53:43 INFO mlflow.store.model_registry.abstract_store: Waiting up to 300 seconds for model version to finish creation. Model name: random-forest-class-model, version 1\n",
      "Created version '1' of model 'random-forest-class-model'.\n",
      "2024/08/29 16:53:43 INFO mlflow.tracking._tracking_service.client: 🏃 View run RandomForest_Model at: http://localhost:5000/#/experiments/678057457486770417/runs/7c72da2a0bcd464d824b8de66d06619a.\n",
      "2024/08/29 16:53:43 INFO mlflow.tracking._tracking_service.client: 🧪 View experiment at: http://localhost:5000/#/experiments/678057457486770417.\n"
     ]
    }
   ],
   "source": [
    "# Start a new MLflow run\n",
    "with mlflow.start_run(run_name=\"RandomForest_Model\") as run:\n",
    "    # Train a Random Forest model\n",
    "    rf_model = RandomForestClassifier(n_estimators=100, random_state=42)\n",
    "    rf_model.fit(X_train, y_train)\n",
    "\n",
    "    # Infer the model signature\n",
    "    y_pred = rf_model.predict(X_test)\n",
    "    signature = infer_signature(X_test, y_pred)\n",
    "\n",
    "    # Log the model to MLflow\n",
    "    mlflow.sklearn.log_model(\n",
    "        sk_model=rf_model, \n",
    "        artifact_path=\"random_forest_model\", \n",
    "        signature=signature, \n",
    "        registered_model_name=\"random-forest-class-model\"\n",
    "    )"
   ]
  },
  {
   "cell_type": "markdown",
   "id": "4f26aa64-91c4-4941-bbcb-60c2a715a5bc",
   "metadata": {},
   "source": [
    "`mlflow.log_model()` function logs a model as an artifact in MLflow and can optionally register it with the MLflow model registry.\n",
    "  - `sk_model`: The trained model we want to log (in this case, the `RandomForestClassifier`).\n",
    "  - `artifact_path`: The path within the MLflow run where the model artifact will be stored.\n",
    "  - `signature`: (Optional) The model signature, which is an MLflow object that captures the input and output schema of the model. It helps to ensure consistency between training and serving.\n",
    "  - `registered_model_name`: (Optional) If provided, MLflow registers the model in the model registry under the specified name. When we first register a model with a particular name, it becomes version 1. Each time we register a new model with the same name, MLflow automatically increments the version number (e.g., version 2, version 3, and so on). Model versions can have tags, which are useful for tracking specific attributes, like whether pre-deployment checks have passed.\n",
    "\n",
    "### Method 2: Register a model using `mlflow.register_model()`\n",
    "In this method, we first log the model using `mlflow.log_model()` and then manually register it using `mlflow.register_model()`. We will use this method when we want more control over the registration process. This is useful if we want to log the model first and decide to register it later or if we want to handle model registration in a separate step. It is more flexible, allowing for delayed or conditional registration."
   ]
  },
  {
   "cell_type": "code",
   "execution_count": 6,
   "id": "e900003a-4960-43dd-8d2a-517ae81e608c",
   "metadata": {},
   "outputs": [
    {
     "name": "stderr",
     "output_type": "stream",
     "text": [
      "Successfully registered model 'logistic-regression-class-model'.\n",
      "2024/08/29 16:53:48 INFO mlflow.store.model_registry.abstract_store: Waiting up to 300 seconds for model version to finish creation. Model name: logistic-regression-class-model, version 1\n",
      "Created version '1' of model 'logistic-regression-class-model'.\n",
      "2024/08/29 16:53:48 INFO mlflow.tracking._tracking_service.client: 🏃 View run LogisticRegression_Model at: http://localhost:5000/#/experiments/678057457486770417/runs/aff94cc3bc8843f08a785568ad964b8e.\n",
      "2024/08/29 16:53:48 INFO mlflow.tracking._tracking_service.client: 🧪 View experiment at: http://localhost:5000/#/experiments/678057457486770417.\n"
     ]
    }
   ],
   "source": [
    "# Start a new MLflow run\n",
    "with mlflow.start_run(run_name=\"LogisticRegression_Model\") as run:\n",
    "    # Train a Logistic Regression model\n",
    "    lr_model = LogisticRegression(max_iter=200, random_state=42)\n",
    "    lr_model.fit(X_train, y_train)\n",
    "\n",
    "    # Infer the model signature\n",
    "    y_pred = rf_model.predict(X_test)\n",
    "    signature = infer_signature(X_test, y_pred)\n",
    "\n",
    "    # Log the model without registering it\n",
    "    mlflow.sklearn.log_model(\n",
    "        sk_model=lr_model, \n",
    "        artifact_path=\"logistic_regression_model\",\n",
    "        signature=signature\n",
    "    )\n",
    "\n",
    "    run_id_lr1 = run.info.run_id\n",
    "    # Manually register the model in the model registry\n",
    "    mlflow.register_model(\n",
    "        model_uri=f\"runs:/{run.info.run_id}/logistic_regression_model\", \n",
    "        name=\"logistic-regression-class-model\"\n",
    "    )"
   ]
  },
  {
   "cell_type": "markdown",
   "id": "4ac57e5b-f7ee-442e-8d92-db83f15274e4",
   "metadata": {},
   "source": [
    "`mlflow.register_model()` function explicitly registers a model that has already been logged as an artifact in an MLflow run.\n",
    "  - `model_uri`: The URI of the logged model that we want to register. This typically points to a specific run's artifact.\n",
    "  - `name`: The name under which we want to register the model in the model registry. When we register a model with a new name, it becomes version 1. Each time we register another model with the same name, MLflow automatically assigns the next version number (e.g., version 2, version 3, and so on). Model versions can have tags, which are useful for tracking important details, such as whether the model has passed pre-deployment checks.\n",
    "\n",
    "## Adding a new version to the model registry\n",
    "In MLflow, adding a new version to the model registry involves registering a new model artifact with the same model name but different content or configuration. Each new version of a model in the registry is associated with a unique, monotonically increasing version number.\n",
    "- **Version increment**: Every time we register a new model under an existing model name, MLflow assigns it a new version number. This version number is incremented sequentially. For example, if we previously registered a model as version 1, a new registration will automatically be assigned version 2.\n",
    "- **Same model and hyperparameters**: If we log and register a model with the exact same parameters, hyperparameters, and content as an existing model, MLflow will still create a new version. This is because each registration is treated as a new entry, even if the model content hasn’t changed. The versioning is based on registration events, not model differences.\n",
    "\n",
    "Now, we will demonstrate how to add a new version of a model to the MLflow model registry. We will use the logistic regression classifier with different hyperparameters compared to the previous version."
   ]
  },
  {
   "cell_type": "code",
   "execution_count": 7,
   "id": "2111b880-a2fd-4088-ba77-71d8748e6ce6",
   "metadata": {},
   "outputs": [
    {
     "name": "stderr",
     "output_type": "stream",
     "text": [
      "Registered model 'logistic-regression-class-model' already exists. Creating a new version of this model...\n",
      "2024/08/29 16:53:52 INFO mlflow.store.model_registry.abstract_store: Waiting up to 300 seconds for model version to finish creation. Model name: logistic-regression-class-model, version 2\n",
      "Created version '2' of model 'logistic-regression-class-model'.\n",
      "2024/08/29 16:53:52 INFO mlflow.tracking._tracking_service.client: 🏃 View run LogisticRegression_Model_Version_2 at: http://localhost:5000/#/experiments/678057457486770417/runs/b1b344bf325c47b2978580957bc50fd7.\n",
      "2024/08/29 16:53:52 INFO mlflow.tracking._tracking_service.client: 🧪 View experiment at: http://localhost:5000/#/experiments/678057457486770417.\n"
     ]
    }
   ],
   "source": [
    "# Start a new MLflow run\n",
    "with mlflow.start_run(run_name=\"LogisticRegression_Model_Version_2\") as run:\n",
    "    # Train a new Logistic Regression model with different hyperparameters\n",
    "    lr_model_v2 = LogisticRegression(max_iter=300, C=0.5, random_state=42)\n",
    "    lr_model_v2.fit(X_train, y_train)\n",
    "\n",
    "    # Infer the model signature\n",
    "    y_pred = lr_model_v2.predict(X_test)\n",
    "    signature = infer_signature(X_test, y_pred)\n",
    "\n",
    "    # Log the new model\n",
    "    mlflow.sklearn.log_model(\n",
    "        sk_model=lr_model_v2, \n",
    "        artifact_path=\"logistic_regression_model\", \n",
    "        signature=signature\n",
    "    )\n",
    "\n",
    "    run_id_lr2 = run.info.run_id\n",
    "    # Register the new model version\n",
    "    mlflow.register_model(\n",
    "        model_uri=f\"runs:/{run.info.run_id}/logistic_regression_model\", \n",
    "        name=\"logistic-regression-class-model\"\n",
    "    )"
   ]
  },
  {
   "cell_type": "markdown",
   "id": "22554e15-8c6d-4dda-a974-177d955dd12f",
   "metadata": {},
   "source": [
    "## Loading a registered model\n",
    "Now, we will demonstrate how to load a registered model using two methods.\n",
    "\n",
    "### Method 1: Load via tracking server\n",
    "We can load a model directly from the tracking server using the model artifact path relative to a specific run. This method requires the run ID and relative path to the model artifact (The `artifact_path` we used to log the model)."
   ]
  },
  {
   "cell_type": "code",
   "execution_count": 8,
   "id": "b5384cc8-3125-4b23-9955-efd45aa9f5e9",
   "metadata": {},
   "outputs": [
    {
     "name": "stdout",
     "output_type": "stream",
     "text": [
      "Predictions: [1 0 2 1 1]\n"
     ]
    }
   ],
   "source": [
    "# Load the model from the Tracking Server\n",
    "model_via_tracking_server = mlflow.sklearn.load_model(f\"runs:/{run_id_lr2}/logistic_regression_model\")\n",
    "\n",
    "# Make predictions and print 5 values\n",
    "y_pred = model_via_tracking_server.predict(X_test)\n",
    "print(\"Predictions:\", y_pred[:5])"
   ]
  },
  {
   "cell_type": "markdown",
   "id": "51e98dc0-beda-4d84-b690-9685e3d15151",
   "metadata": {},
   "source": [
    "### Method 2: Load via name and version\n",
    "We can load a model using its registered name and a specific version number from the model registry. It is convenient when we want to access a model version directly by its name (The `name`/`registered_model_name` we used to regiater the model) and version without needing the run details.\n",
    "\n",
    "##### Example 1: Load version 1"
   ]
  },
  {
   "cell_type": "code",
   "execution_count": 9,
   "id": "7b7b6085-5fa7-4951-b8ed-4e6de8f806ce",
   "metadata": {},
   "outputs": [
    {
     "name": "stdout",
     "output_type": "stream",
     "text": [
      "Predictions for version 1: [1 0 2 1 1]\n"
     ]
    }
   ],
   "source": [
    "# Load the model from the Model Registry\n",
    "model_via_name_version_1 = mlflow.sklearn.load_model(f\"models:/logistic-regression-class-model/1\")\n",
    "\n",
    "# Make predictions and print 5 values\n",
    "y_pred = model_via_name_version_1.predict(X_test)\n",
    "print(\"Predictions for version 1:\", y_pred[:5])"
   ]
  },
  {
   "cell_type": "markdown",
   "id": "a4d779e5-6b08-4993-a92d-c5c00d4738e7",
   "metadata": {},
   "source": [
    "##### Example 1: Load version 2"
   ]
  },
  {
   "cell_type": "code",
   "execution_count": 10,
   "id": "0ae962b5-9203-43d5-9235-d3d7aa0839ad",
   "metadata": {},
   "outputs": [
    {
     "name": "stdout",
     "output_type": "stream",
     "text": [
      "Predictions for version 2: [1 0 2 1 1]\n"
     ]
    }
   ],
   "source": [
    "# Load the model from the Model Registry\n",
    "model_via_name_version_2 = mlflow.sklearn.load_model(f\"models:/logistic-regression-class-model/2\")\n",
    "\n",
    "# Make predictions and print 5 values\n",
    "y_pred = model_via_name_version_2.predict(X_test)\n",
    "print(\"Predictions for version 2:\", y_pred[:5])"
   ]
  }
 ],
 "metadata": {
  "kernelspec": {
   "display_name": "Python 3 (ipykernel)",
   "language": "python",
   "name": "python3"
  },
  "language_info": {
   "codemirror_mode": {
    "name": "ipython",
    "version": 3
   },
   "file_extension": ".py",
   "mimetype": "text/x-python",
   "name": "python",
   "nbconvert_exporter": "python",
   "pygments_lexer": "ipython3",
   "version": "3.8.19"
  }
 },
 "nbformat": 4,
 "nbformat_minor": 5
}
