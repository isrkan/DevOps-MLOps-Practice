{
 "cells": [
  {
   "cell_type": "markdown",
   "id": "1709ddd8-9dd9-4e65-82f7-6882d04e337b",
   "metadata": {},
   "source": [
    "# Managing registered models and model versions with MLflow client\n",
    "\n",
    "In this notebook, we will explore how to manage registered models and their versions using the MLflow Client. MLflow provides robust functionality to register models, update their metadata, transition their stages, and manage model versions. These capabilities are essential for maintaining a well-organized model registry, which is a critical component of the MLOps process.\n",
    "\n",
    "The MLflow model registry is a centralized store for managing models and their versions. It provides functionalities for:\n",
    "- **Registering models**: Add a model to the registry and create versions.\n",
    "- **Managing model versions**: Track, update, and manage different versions of a model.\n",
    "- **Tagging models and versions**: Add metadata to models and versions for better organization.\n",
    "- **Searching and retrieving models**: Find specific models or versions based on various criteria."
   ]
  },
  {
   "cell_type": "code",
   "execution_count": 1,
   "id": "367b32d9-b31e-4a10-9155-56c55af85254",
   "metadata": {},
   "outputs": [],
   "source": [
    "import mlflow\n",
    "from mlflow.tracking import MlflowClient"
   ]
  },
  {
   "cell_type": "markdown",
   "id": "b11689b6-f5f2-46b4-b106-e3b645413c11",
   "metadata": {},
   "source": [
    "#### Setting up the MLflow client\n",
    "Before diving into managing models, let's first set up the MLflow client."
   ]
  },
  {
   "cell_type": "code",
   "execution_count": 2,
   "id": "9fc85023-a025-4ce2-80da-30ec5ef08766",
   "metadata": {},
   "outputs": [],
   "source": [
    "# Initialize the MLflow client\n",
    "client = MlflowClient()"
   ]
  },
  {
   "cell_type": "markdown",
   "id": "d37175ca-cd58-487b-976c-de6c35eae004",
   "metadata": {},
   "source": [
    "## Creating a registered model\n",
    "The first step in managing models is to create a registered model. A registered model is a logical grouping of multiple model versions. Registering a model in MLflow involves creating a registered model entry in the model registry. Once registered, we can track different versions of the model, update its metadata, and transition it through different aliases."
   ]
  },
  {
   "cell_type": "code",
   "execution_count": 3,
   "id": "5d4c1af2-51a2-440a-b92f-2e7f649e7938",
   "metadata": {},
   "outputs": [
    {
     "name": "stdout",
     "output_type": "stream",
     "text": [
      "Created registered model: My_Registered_Model\n"
     ]
    }
   ],
   "source": [
    "# Create a new registered model\n",
    "registered_model = client.create_registered_model(\n",
    "    name=\"My_Registered_Model\",\n",
    "    tags={\"team\": \"data_science\", \"priority\": \"high\"},\n",
    "    description=\"This is a registered model for demonstration purposes.\"\n",
    ")\n",
    "\n",
    "print(f\"Created registered model: {registered_model.name}\")"
   ]
  },
  {
   "cell_type": "markdown",
   "id": "99faff1a-71a5-491b-a6ea-615f016d1584",
   "metadata": {},
   "source": [
    "- **`create_registered_model(name, tags=None, description=None)`**: Creates a registered model in the MLflow model registry.\n",
    "  - `name`: The name of the registered model.\n",
    "  - `tags` (Optional): A dictionary of key-value pairs to tag the registered model.\n",
    "  - `description` (Optional): A description of the registered model.\n",
    "  - Returns: A `RegisteredModel` object with details about the registered model.\n",
    "\n",
    "### Adding a model version\n",
    "Once a model is registered, we can add new versions to the model. Each version can represent a different iteration of the model, typically created from different runs or training sessions."
   ]
  },
  {
   "cell_type": "code",
   "execution_count": 4,
   "id": "c5404f75-ac8a-4182-b813-b6797928c547",
   "metadata": {},
   "outputs": [
    {
     "name": "stdout",
     "output_type": "stream",
     "text": [
      "Created model version: 1 for model: My_Registered_Model\n"
     ]
    }
   ],
   "source": [
    "# Add a new version to the registered model\n",
    "model_version = client.create_model_version(\n",
    "    name=\"My_Registered_Model\",\n",
    "    source=\"file:///C:/Users/israe/Documents/Codes/Notebooks/mlruns/678057457486770417/aff94cc3bc8843f08a785568ad964b8e/artifacts/logistic_regression_model\",\n",
    "    run_id=\"aff94cc3bc8843f08a785568ad964b8e\",\n",
    "    description=\"Version 1 of the registered model.\"\n",
    ")\n",
    "\n",
    "print(f\"Created model version: {model_version.version} for model: My_Registered_Model\")"
   ]
  },
  {
   "cell_type": "markdown",
   "id": "a5faf6e6-7ac2-491c-8e00-e0c3b23b9b0c",
   "metadata": {},
   "source": [
    "- **`create_model_version(name, source, run_id=None, tags=None, run_link=None, description=None, await_creation_for=300)`**: Creates a new version of a registered model.\n",
    "  - `name`: The name of the registered model.\n",
    "  - `source`: The source path where the model is stored.\n",
    "  - `run_id` (Optional): The run ID associated with this model version.\n",
    "  - `tags` (Optional): Tags for the model version.\n",
    "  - `run_link` (Optional): A link to the run in MLflow UI.\n",
    "  - `description` (Optional): A description of the model version.\n",
    "  - `await_creation_for` (Optional): Time to wait for the model version to be created.\n",
    "  - Returns: A `ModelVersion` object with details about the new model version.\n",
    "\n",
    "### Updating a registered model\n",
    "We can update the metadata of a registered model, such as its description, tags, or any other metadata using the `update_registered_model()` method."
   ]
  },
  {
   "cell_type": "code",
   "execution_count": 5,
   "id": "7d6107d3-c853-439d-8b5c-eb1ebfb09da9",
   "metadata": {},
   "outputs": [
    {
     "name": "stdout",
     "output_type": "stream",
     "text": [
      "Updated registered model: My_Registered_Model\n"
     ]
    }
   ],
   "source": [
    "# Update the description of a registered model\n",
    "updated_model = client.update_registered_model(\n",
    "    name=\"My_Registered_Model\",\n",
    "    description=\"Updated description for the registered model.\"\n",
    ")\n",
    "\n",
    "print(f\"Updated registered model: {updated_model.name}\")"
   ]
  },
  {
   "cell_type": "markdown",
   "id": "94eaf550-46a3-490b-bea4-c1b80fdfee79",
   "metadata": {},
   "source": [
    "- **`update_registered_model(name, description=None)`**: Updates the description of a registered model.\n",
    "  - `name`: The name of the registered model.\n",
    "  - `description` (Optional): The new description.\n",
    "  - Returns: A `RegisteredModel` object with details about the registered model.\n",
    "\n",
    "### Updating model versions\n",
    "Similarly, we can update the description of a specific model version."
   ]
  },
  {
   "cell_type": "code",
   "execution_count": 6,
   "id": "ae47ee85-2637-45c9-9a99-9bf9f289b8f6",
   "metadata": {},
   "outputs": [
    {
     "name": "stdout",
     "output_type": "stream",
     "text": [
      "Updated description model version: 1 of model: My_Registered_Model\n"
     ]
    }
   ],
   "source": [
    "# Update the description of a model version\n",
    "updated_version = client.update_model_version(\n",
    "    name=\"My_Registered_Model\",\n",
    "    version=model_version.version,\n",
    "    description=\"Updated description for version 1.\"\n",
    ")\n",
    "\n",
    "print(f\"Updated description model version: {updated_version.version} of model: My_Registered_Model\")"
   ]
  },
  {
   "cell_type": "markdown",
   "id": "f5f97359-ce0f-4b39-bf85-677b1e6a3534",
   "metadata": {},
   "source": [
    "- **`update_model_version(name, version, description=None)`**: Updates the description of a specific model version.\n",
    "  - `name`: The name of the registered model.\n",
    "  - `version`: The version number of the model.\n",
    "  - `description` (Optional): The new description for the model version.\n",
    "\n",
    "## Setting and deleting tags\n",
    "Tags are useful for organizing models and model versions. we can set tags for both registered models and model versions.\n",
    "\n",
    "### Setting a tag for a registered model"
   ]
  },
  {
   "cell_type": "code",
   "execution_count": 7,
   "id": "5ae6a749-8e65-4fff-8aec-069df1b8ac61",
   "metadata": {},
   "outputs": [
    {
     "name": "stdout",
     "output_type": "stream",
     "text": [
      "Set tag for registered model: My_Registered_Model\n"
     ]
    }
   ],
   "source": [
    "# Set a tag for the registered model\n",
    "client.set_registered_model_tag(\"My_Registered_Model\", \"deployment_stage\", \"production\")\n",
    "\n",
    "print(f\"Set tag for registered model: My_Registered_Model\")"
   ]
  },
  {
   "cell_type": "markdown",
   "id": "ba6572e3-c582-42fb-978e-bb377a44bc61",
   "metadata": {},
   "source": [
    "- **`set_registered_model_tag(name, key, value)`**: Sets a tag on a registered model.\n",
    "  - `name`: The name of the registered model.\n",
    "  - `key`: The key of the tag.\n",
    "  - `value`: The value of the tag.\n",
    "\n",
    "### Setting a tag for a model version"
   ]
  },
  {
   "cell_type": "code",
   "execution_count": 8,
   "id": "e6f57642-837c-4ace-861b-ba09fbcc18fb",
   "metadata": {},
   "outputs": [
    {
     "name": "stdout",
     "output_type": "stream",
     "text": [
      "Set tag for model version: 1\n"
     ]
    }
   ],
   "source": [
    "# Set a tag for a specific model version\n",
    "client.set_model_version_tag(\"My_Registered_Model\", model_version.version, \"version_stage\", \"staging\")\n",
    "\n",
    "print(f\"Set tag for model version: {model_version.version}\")"
   ]
  },
  {
   "cell_type": "markdown",
   "id": "0de9ac30-65da-4d8f-8bc3-cce58386c751",
   "metadata": {},
   "source": [
    "- **`set_model_version_tag(name, version, key, value)`**: Sets a tag on a specific model version.\n",
    "  - `name`: The name of the registered model.\n",
    "  - `version`: The version number of the model.\n",
    "  - `key`: The key of the tag.\n",
    "  - `value`: The value of the tag.\n",
    "\n",
    "### Deleting a tag\n",
    "Tags can also be deleted if they are no longer needed."
   ]
  },
  {
   "cell_type": "code",
   "execution_count": 9,
   "id": "cddbb130-e241-48de-8849-de139536fca4",
   "metadata": {},
   "outputs": [
    {
     "name": "stdout",
     "output_type": "stream",
     "text": [
      "Deleted tag from registered model: My_Registered_Model\n"
     ]
    }
   ],
   "source": [
    "# Delete a tag from the registered model\n",
    "client.delete_registered_model_tag(\"My_Registered_Model\", \"deployment_stage\")\n",
    "\n",
    "print(f\"Deleted tag from registered model: My_Registered_Model\")"
   ]
  },
  {
   "cell_type": "markdown",
   "id": "496f388a-2200-4b3c-9f43-772a4ee8a347",
   "metadata": {},
   "source": [
    "- **`delete_registered_model_tag(name, key)`**: Deletes a tag from a registered model.\n",
    "  - `name`: The name of the registered model.\n",
    "  - `key`: The key of the tag to delete."
   ]
  },
  {
   "cell_type": "code",
   "execution_count": 10,
   "id": "24069b43-0faa-4b6a-8196-3061c570539d",
   "metadata": {},
   "outputs": [
    {
     "name": "stdout",
     "output_type": "stream",
     "text": [
      "Deleted tag from model version: 1\n"
     ]
    }
   ],
   "source": [
    "# Delete a tag from a specific model version\n",
    "client.delete_model_version_tag(\"My_Registered_Model\", model_version.version, \"version_stage\")\n",
    "\n",
    "print(f\"Deleted tag from model version: {model_version.version}\")"
   ]
  },
  {
   "cell_type": "markdown",
   "id": "7b85c58c-95ff-4c07-93d2-ee4ab36f8519",
   "metadata": {},
   "source": [
    "- **`delete_model_version_tag(name, version, key)`**: Deletes a tag from a specific model version.\n",
    "  - `name`: The name of the registered model.\n",
    "  - `version`: The version number of the model.\n",
    "  - `key`: The key of the tag to delete.\n",
    "\n",
    "## Searching for registered models and model versions\n",
    "\n",
    "### Searching registered models\n",
    "We can search for registered models based on certain criteria using the `search_registered_models()` method."
   ]
  },
  {
   "cell_type": "code",
   "execution_count": 11,
   "id": "169ecf23-7105-4a21-976c-a0bcc0ada093",
   "metadata": {},
   "outputs": [
    {
     "name": "stdout",
     "output_type": "stream",
     "text": [
      "Found registered model: My_Registered_Model\n"
     ]
    }
   ],
   "source": [
    "# Search for registered models with a specific tag\n",
    "registered_models = client.search_registered_models(filter_string=\"tags.priority = 'high'\")\n",
    "\n",
    "for model in registered_models:\n",
    "    print(f\"Found registered model: {model.name}\")"
   ]
  },
  {
   "cell_type": "markdown",
   "id": "7ce077b9-79c0-477b-88a8-fbc3058c41b8",
   "metadata": {},
   "source": [
    "- **`search_registered_models(filter_string=None, max_results=100, order_by=None, page_token=None)`**: Searches for registered models.\n",
    "  - `filter_string` (Optional): A filter string to narrow down the search.\n",
    "  - `max_results` (Optional): The maximum number of results to return.\n",
    "  - `order_by` (Optional): A list of fields to order the results by.\n",
    "  - `page_token` (Optional): A token for paginated results.\n",
    "\n",
    "### Searching model versions\n",
    "Similarly, we can search for specific model versions."
   ]
  },
  {
   "cell_type": "code",
   "execution_count": 12,
   "id": "51f77a71-1723-4d5d-be22-fdd6edf0f391",
   "metadata": {},
   "outputs": [],
   "source": [
    "# Search for model versions with a specific tag\n",
    "filter_string = \"tags.version_stage = 'staging'\"\n",
    "model_versions = client.search_model_versions(filter_string=filter_string)\n",
    "\n",
    "for version in model_versions:\n",
    "    print(f\"Found model version: {version.version} of model: {version.name}\")"
   ]
  },
  {
   "cell_type": "markdown",
   "id": "283363c3-57bb-4ef2-965c-3ba83fe24f4e",
   "metadata": {},
   "source": [
    "- **`search_model_versions(filter_string=None, max_results=10000, order_by=None, page_token=None)`**: Searches for model versions.\n",
    "  - `filter_string` (Optional): A filter string to narrow down the search.\n",
    "  - `max_results` (Optional): The maximum number of results to return.\n",
    "  - `order_by` (Optional): A list of fields to order the results by.\n",
    "  - `page_token` (Optional): A token for paginated results.\n",
    "\n",
    "## Retrieving model information\n",
    "\n",
    "### Getting a registered model\n",
    "We can retrieve the details of a registered model using its name."
   ]
  },
  {
   "cell_type": "code",
   "execution_count": 13,
   "id": "d8f9fc57-72be-4002-808c-9080a989de01",
   "metadata": {},
   "outputs": [
    {
     "name": "stdout",
     "output_type": "stream",
     "text": [
      "Retrieved registered model: My_Registered_Model\n"
     ]
    }
   ],
   "source": [
    "# Get a registered model\n",
    "retrieved_model = client.get_registered_model(\"My_Registered_Model\")\n",
    "print(f\"Retrieved registered model: {retrieved_model.name}\")"
   ]
  },
  {
   "cell_type": "markdown",
   "id": "55d3dc1f-9410-45e2-855c-41a994192343",
   "metadata": {},
   "source": [
    "- **`get_registered_model(name)`**: Retrieves a registered model by name.\n",
    "  - `name`: The name of the registered model.\n",
    "\n",
    "### Getting a model version\n",
    "Similarly, we can retrieve a specific model version."
   ]
  },
  {
   "cell_type": "code",
   "execution_count": 14,
   "id": "6c953165-b35d-4dad-ac63-d41a83ed3995",
   "metadata": {},
   "outputs": [
    {
     "name": "stdout",
     "output_type": "stream",
     "text": [
      "Retrieved model version: 1 of model: My_Registered_Model\n"
     ]
    }
   ],
   "source": [
    "# Get a model version\n",
    "retrieved_version = client.get_model_version(\"My_Registered_Model\", model_version.version)\n",
    "print(f\"Retrieved model version: {retrieved_version.version} of model: My_Registered_Model\")"
   ]
  },
  {
   "cell_type": "markdown",
   "id": "031b0574-578b-48e2-8384-888bf86a9d55",
   "metadata": {},
   "source": [
    "- **`get_model_version(name, version)`**: Retrieves a specific model version.\n",
    "  - `name`: The name of the registered model.\n",
    "  - `version`: The version number of the model.\n",
    "\n",
    "## Renaming a registered model\n",
    "If we need to rename a registered model, use the `rename_registered_model()` method."
   ]
  },
  {
   "cell_type": "code",
   "execution_count": 15,
   "id": "1b7e940d-4e0f-4e50-985b-6ea9079eaabe",
   "metadata": {},
   "outputs": [
    {
     "name": "stdout",
     "output_type": "stream",
     "text": [
      "Renamed registered model to: My_Renamed_Registered_Model\n"
     ]
    }
   ],
   "source": [
    "# Rename the registered model\n",
    "renamed_model = client.rename_registered_model(\"My_Registered_Model\", new_name=\"My_Renamed_Registered_Model\")\n",
    "\n",
    "print(f\"Renamed registered model to: My_Renamed_Registered_Model\")"
   ]
  },
  {
   "cell_type": "markdown",
   "id": "f6ad4d2d-fa1e-44da-bbfa-7364cdd519e4",
   "metadata": {},
   "source": [
    "- **`rename_registered_model(name, new_name)`**: Renames a registered model.\n",
    "  - `name`: The current name of the registered model.\n",
    "  - `new_name`: The new name for the registered model.\n",
    "\n",
    "##  Model version aliases\n",
    "Model version aliases are user-friendly identifiers for specific stages. We can set and retrieve aliases to refer to model stages.\n",
    "\n",
    "### Setting a model version alias"
   ]
  },
  {
   "cell_type": "code",
   "execution_count": 16,
   "id": "4c3fca94-0505-4faf-ac50-cc1c990fa6f0",
   "metadata": {},
   "outputs": [
    {
     "name": "stdout",
     "output_type": "stream",
     "text": [
      "Set alias 'production' for model version 1 of model: My_Renamed_Registered_Model\n"
     ]
    }
   ],
   "source": [
    "# Set an alias for a model version\n",
    "client.set_registered_model_alias(name=\"My_Renamed_Registered_Model\", alias=\"production\", version=str(model_version.version))\n",
    "\n",
    "print(f\"Set alias 'production' for model version {model_version.version} of model: My_Renamed_Registered_Model\")"
   ]
  },
  {
   "cell_type": "markdown",
   "id": "513b0ec4-fdb0-4e63-9eeb-acf629fbeb46",
   "metadata": {},
   "source": [
    "- **`set_registered_model_alias(name, alias, version)`**: Sets an alias for a specific model version.\n",
    "  - `name`: The name of the registered model.\n",
    "  - `alias`: The alias to set.\n",
    "  - `version`: The version number of the model.\n",
    "\n",
    "### Getting a model version by alias\n",
    "We can retrieve a model version using its alias."
   ]
  },
  {
   "cell_type": "code",
   "execution_count": 17,
   "id": "7a87cd7d-ad58-4d9d-baee-24ea74ef5e04",
   "metadata": {},
   "outputs": [
    {
     "name": "stdout",
     "output_type": "stream",
     "text": [
      "Retrieved model version: 1 using alias 'production'\n"
     ]
    }
   ],
   "source": [
    "# Get a model version by alias\n",
    "retrieved_version_by_alias = client.get_model_version_by_alias(name=\"My_Renamed_Registered_Model\", alias=\"production\")\n",
    "print(f\"Retrieved model version: {retrieved_version_by_alias.version} using alias 'production'\")"
   ]
  },
  {
   "cell_type": "markdown",
   "id": "08c851a8-12a8-4f3d-99b1-74ec65179031",
   "metadata": {},
   "source": [
    "- **`get_model_version_by_alias(name, alias)`**: Retrieves a model version by its alias.\n",
    "  - `name`: The name of the registered model.\n",
    "  - `alias`: The alias of the model version.\n",
    "\n",
    "## Deleting models and versions\n",
    "\n",
    "### Deleting a model version\n",
    "We can delete a specific version of a model."
   ]
  },
  {
   "cell_type": "code",
   "execution_count": 18,
   "id": "2dd5c7bd-ddbc-4261-9954-c5f5eeed4557",
   "metadata": {},
   "outputs": [
    {
     "name": "stdout",
     "output_type": "stream",
     "text": [
      "Deleted model version: 1 of model: My_Registered_Model\n"
     ]
    }
   ],
   "source": [
    "# Delete a model version\n",
    "client.delete_model_version(\"My_Renamed_Registered_Model\", model_version.version)\n",
    "print(f\"Deleted model version: {model_version.version} of model: My_Registered_Model\")"
   ]
  },
  {
   "cell_type": "markdown",
   "id": "49942821-6628-4f35-88e2-c6ae7f4cfb59",
   "metadata": {},
   "source": [
    "- **`delete_model_version(name, version)`**: Deletes a specific model version.\n",
    "  - `name`: The name of the registered model.\n",
    "  - `version`: The version number of the model.\n",
    "\n",
    "### Deleting a registered model\n",
    "If a registered model is no longer needed, it can be deleted."
   ]
  },
  {
   "cell_type": "code",
   "execution_count": 19,
   "id": "caf4b609-5e96-4b33-9844-8aaade116085",
   "metadata": {},
   "outputs": [
    {
     "name": "stdout",
     "output_type": "stream",
     "text": [
      "Deleted registered model: My_Registered_Model\n"
     ]
    }
   ],
   "source": [
    "# Delete a registered model\n",
    "client.delete_registered_model(\"My_Renamed_Registered_Model\")\n",
    "print(f\"Deleted registered model: My_Registered_Model\")"
   ]
  },
  {
   "cell_type": "markdown",
   "id": "672e1812-20fb-4df5-a4dd-f2b7e4e05c9b",
   "metadata": {},
   "source": [
    "- **`delete_registered_model(name)`**: Deletes a registered model.\n",
    "  - `name`: The name of the registered model."
   ]
  }
 ],
 "metadata": {
  "kernelspec": {
   "display_name": "Python 3 (ipykernel)",
   "language": "python",
   "name": "python3"
  },
  "language_info": {
   "codemirror_mode": {
    "name": "ipython",
    "version": 3
   },
   "file_extension": ".py",
   "mimetype": "text/x-python",
   "name": "python",
   "nbconvert_exporter": "python",
   "pygments_lexer": "ipython3",
   "version": "3.8.19"
  }
 },
 "nbformat": 4,
 "nbformat_minor": 5
}
