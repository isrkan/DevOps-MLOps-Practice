{
 "cells": [
  {
   "cell_type": "markdown",
   "id": "e1017891-abb8-4567-8f9a-45cd90f5a754",
   "metadata": {},
   "source": [
    "# Managing experiments with MLflow client\n",
    "\n",
    "In this notebook, we will explore how to manage experiments using the MLflow client. MLflow client API provides fine-grained control over experiments, runs, and models compared to the high-level MLflow functions. MLflow client provides a Python API that allows us to programmatically manage experiments, including creating, listing, and deleting experiments. This is particularly useful for automating ML workflows and integrating MLflow with other tools."
   ]
  },
  {
   "cell_type": "code",
   "execution_count": 1,
   "id": "c976e646-a144-47c3-aad7-bef4ac23f6ec",
   "metadata": {},
   "outputs": [],
   "source": [
    "import mlflow\n",
    "from mlflow.tracking import MlflowClient\n",
    "from mlflow.entities import ViewType"
   ]
  },
  {
   "cell_type": "markdown",
   "id": "25006643-f355-48f2-9aaf-2631f13ea4c0",
   "metadata": {},
   "source": [
    "### Setting up the MLflow client\n",
    "Before we begin managing experiments, we need to set up the MLflow client. We will create an instance of MlflowClient. The `mlflow.client.MlflowClient` class is the central point for managing experiments and runs in MLflow. With `MlflowClient`, we can interact with the MLflow tracking server to perform various operations on experiments."
   ]
  },
  {
   "cell_type": "code",
   "execution_count": 2,
   "id": "75408646-5e27-4979-85e6-a9cc00f7f7ae",
   "metadata": {},
   "outputs": [],
   "source": [
    "# Create an MLflow client instance\n",
    "client = MlflowClient()"
   ]
  },
  {
   "cell_type": "markdown",
   "id": "b5212977-9ba7-4aa4-a893-6ea4f068e672",
   "metadata": {},
   "source": [
    "### Creating an experiment\n",
    "To create a new experiment, we can use the `create_experiment()` method of the `MlflowClient` class. This method requires the name of the experiment and optionally takes a location where artifacts are stored."
   ]
  },
  {
   "cell_type": "code",
   "execution_count": 3,
   "id": "13c7444d-1467-4917-9392-771aace5ee29",
   "metadata": {},
   "outputs": [
    {
     "name": "stdout",
     "output_type": "stream",
     "text": [
      "Created experiment with ID: 959268168270051133\n"
     ]
    }
   ],
   "source": [
    "# Create a new experiment\n",
    "experiment_id = client.create_experiment(name=\"My_New_Experiment\")\n",
    "\n",
    "print(f\"Created experiment with ID: {experiment_id}\")"
   ]
  },
  {
   "cell_type": "markdown",
   "id": "f9749e07-88bd-434d-b2e4-bb415a7c97e4",
   "metadata": {},
   "source": [
    "- **`create_experiment(name)`**: Creates a new experiment with the specified name and returns experiment id. If the experiment already exists, it will return an error unless we handle it.\n",
    "> **Note**: If an experiment with the same name already exists, MLflow will raise an error. To check if an experiment exists, we can list experiments or search by name.\n",
    "\n",
    "#### Optional: Checking if an experiment exists\n",
    "Before creating a new experiment, it's good practice to check if an experiment with the same name already exists."
   ]
  },
  {
   "cell_type": "code",
   "execution_count": 4,
   "id": "a96bbb70-66e9-4259-8566-44ba03902122",
   "metadata": {},
   "outputs": [
    {
     "name": "stdout",
     "output_type": "stream",
     "text": [
      "Using experiment with ID: 959268168270051133\n"
     ]
    }
   ],
   "source": [
    "# Check if experiment exists, if not, create it\n",
    "experiment = client.get_experiment_by_name(\"My_New_Experiment\")\n",
    "if experiment is None:\n",
    "    experiment_id = client.create_experiment(\"My_New_Experiment\")\n",
    "else:\n",
    "    experiment_id = experiment.experiment_id\n",
    "\n",
    "print(f\"Using experiment with ID: {experiment_id}\")"
   ]
  },
  {
   "cell_type": "markdown",
   "id": "43d6bf05-fd3c-478f-ae45-63c007eff852",
   "metadata": {},
   "source": [
    "- **`get_experiment_by_name(name)`**: Retrieve an existing experiment based on its specified name. It takes the experiment name as an argument and returns an experiment object if found. If the experiment does not exist, it will return a None value.\n",
    "\n",
    "## Listing experiments and experiment details\n",
    "MLflow allows us to list all experiments in the tracking server. This can be helpful for finding the ID of an experiment or checking which experiments are available."
   ]
  },
  {
   "cell_type": "code",
   "execution_count": 5,
   "id": "ff72fc54-2af1-4fee-be01-0b1845bd44a9",
   "metadata": {},
   "outputs": [
    {
     "name": "stdout",
     "output_type": "stream",
     "text": [
      "Experiment ID: 959268168270051133, Name: My_New_Experiment, Artifact location: file:///C:/Users/israe/Documents/Codes/Notebooks/mlruns/959268168270051133\n",
      "Experiment ID: 678057457486770417, Name: MLflow Model Registry Example, Artifact location: file:///C:/Users/israe/Documents/Codes/Notebooks/mlruns/678057457486770417\n",
      "Experiment ID: 824640624065164964, Name: Iris Classification Experiment2, Artifact location: file:///C:/Users/israe/Documents/Codes/Notebooks/mlruns/824640624065164964\n",
      "Experiment ID: 191308692135956385, Name: Iris Classification Experiment, Artifact location: file:///C:/Users/israe/Documents/Codes/Notebooks/mlruns/191308692135956385\n",
      "Experiment ID: 328990853911858228, Name: California Housing Regression Autologging, Artifact location: file:///C:/Users/israe/Documents/Codes/Notebooks/mlruns/328990853911858228\n"
     ]
    }
   ],
   "source": [
    "# List all experiments\n",
    "experiments_after_creating = client.search_experiments()\n",
    "\n",
    "# Display experiment names and IDs\n",
    "for experiment in experiments_after_creating:\n",
    "    print(f\"Experiment ID: {experiment.experiment_id}, Name: {experiment.name}, Artifact location: {experiment.artifact_location}\")"
   ]
  },
  {
   "cell_type": "markdown",
   "id": "c22a1b23-fff8-4292-9dcb-16981072a9fd",
   "metadata": {},
   "source": [
    "- **`search_experiments()`**: Returns a list of all active experiments in the tracking server, including their IDs, names, and artifact locations.\n",
    "\n",
    "### Deleting an experiment\n",
    "If we need to delete an experiment, we can use the `delete_experiment()` method. This marks the experiment as deleted but does not remove its data from the tracking server."
   ]
  },
  {
   "cell_type": "code",
   "execution_count": 6,
   "id": "7a5363a9-dd0b-41f9-8f63-beb3b476b7dc",
   "metadata": {},
   "outputs": [
    {
     "name": "stdout",
     "output_type": "stream",
     "text": [
      "Experiment with ID: 959268168270051133 has been deleted.\n",
      "\n",
      "Experiments list after deletion:\n",
      "Experiment ID: 678057457486770417, Name: MLflow Model Registry Example\n",
      "Experiment ID: 824640624065164964, Name: Iris Classification Experiment2\n",
      "Experiment ID: 191308692135956385, Name: Iris Classification Experiment\n",
      "Experiment ID: 328990853911858228, Name: California Housing Regression Autologging\n"
     ]
    }
   ],
   "source": [
    "# Delete an experiment by ID\n",
    "client.delete_experiment(experiments_after_creating[0].experiment_id)\n",
    "print(f\"Experiment with ID: {experiments_after_creating[0].experiment_id} has been deleted.\")\n",
    "\n",
    "# Display experiment names and IDs\n",
    "experiments_after_deletion = client.search_experiments()\n",
    "print(\"\\nExperiments list after deletion:\")\n",
    "for experiment in experiments_after_deletion:\n",
    "    print(f\"Experiment ID: {experiment.experiment_id}, Name: {experiment.name}\")"
   ]
  },
  {
   "cell_type": "markdown",
   "id": "91a437cc-583d-4e04-8221-6d76ebb95350",
   "metadata": {},
   "source": [
    "- **`delete_experiment()`**: Marks an experiment and its associated metadata, runs, metrics, parameters, and tags as deleted. Deleted experiments are not permanently removed; they are simply hidden from the list of active experiments. This function takes a single parameter, which is the `experiment_id`. This ID is a string or integer that uniquely identifies the experiment we want to delete.\n",
    "\n",
    "> **Note**: Deleting an experiment does not delete its associated runs or artifacts. They remain accessible if we know the run IDs.\n",
    "\n",
    "### Restoring a deleted experiment\n",
    "MLflow allows us to restore a deleted experiment using the `restore_experiment()` method, which moves it back to an active state."
   ]
  },
  {
   "cell_type": "code",
   "execution_count": 7,
   "id": "a8f45cc8-c432-4fb6-8579-bcd805e11a2d",
   "metadata": {},
   "outputs": [
    {
     "name": "stdout",
     "output_type": "stream",
     "text": [
      "Experiment with ID: 959268168270051133 has been restored.\n",
      "\n",
      "Experiments list after restoring:\n",
      "Experiment ID: 959268168270051133, Name: My_New_Experiment\n",
      "Experiment ID: 678057457486770417, Name: MLflow Model Registry Example\n",
      "Experiment ID: 824640624065164964, Name: Iris Classification Experiment2\n",
      "Experiment ID: 191308692135956385, Name: Iris Classification Experiment\n",
      "Experiment ID: 328990853911858228, Name: California Housing Regression Autologging\n"
     ]
    }
   ],
   "source": [
    "# Restore a deleted experiment by ID\n",
    "client.restore_experiment(experiments_after_creating[0].experiment_id)\n",
    "print(f\"Experiment with ID: {experiments_after_creating[0].experiment_id} has been restored.\")\n",
    "\n",
    "# Display experiment names and IDs\n",
    "experiments_after_restoring = client.search_experiments()\n",
    "print(\"\\nExperiments list after restoring:\")\n",
    "for experiment in experiments_after_restoring:\n",
    "    print(f\"Experiment ID: {experiment.experiment_id}, Name: {experiment.name}\")"
   ]
  },
  {
   "cell_type": "markdown",
   "id": "37a361ea-35a4-4a0a-adc2-5ebc11e5b4cf",
   "metadata": {},
   "source": [
    "- **`restore_experiment()`**: Restores a deleted experiment, making it active again. This function also takes a single parameter, `experiment_id`, which specifies the ID of the experiment we want to restore.\n",
    "\n",
    "### Renaming an experiment\n",
    "MLflow also allows us to rename an experiment if we need to update its name."
   ]
  },
  {
   "cell_type": "code",
   "execution_count": 8,
   "id": "f180fc69-abed-4898-bf9e-9b8a1bf57e53",
   "metadata": {},
   "outputs": [
    {
     "name": "stdout",
     "output_type": "stream",
     "text": [
      "Experiment ID: 959268168270051133 has been renamed to: Renamed_Experiment\n"
     ]
    }
   ],
   "source": [
    "# Rename an experiment by ID\n",
    "client.rename_experiment(experiments_after_creating[0].experiment_id, \"Renamed_Experiment\")\n",
    "print(f\"Experiment ID: {experiments_after_creating[0].experiment_id} has been renamed to: Renamed_Experiment\")"
   ]
  },
  {
   "cell_type": "markdown",
   "id": "1ddcc742-aef8-4a6a-a854-e8b0ce31c2e6",
   "metadata": {},
   "source": [
    "- **`rename_experiment()`**: Renames an experiment by its ID. This function requires two parameters: the `experiment_id`, which is the ID of the experiment we want to rename, and `new_name`, which is a string representing the new name we want to assign to the experiment. It doesn't return any value but successfully changes the experiment’s name in the MLflow system.\n",
    "\n",
    "## Searching experiments\n",
    "The `mlflow.search_experiments()` function allows us to search for experiments in the MLflow tracking server based on specific criteria. This function is flexible and can be customized with various parameters to filter and sort experiments according to our needs. The function returns a `PagedList` of `Experiment` objects that match the query and we can access their properties like `experiment_id`, `name`, `tags`, and more.\n",
    "\n",
    "\n",
    "#### Search active experiments\n",
    "In this example, we search for all active experiments and print their IDs and names."
   ]
  },
  {
   "cell_type": "code",
   "execution_count": 9,
   "id": "c2164bb3-9872-4d4f-a89f-3af6ced8b4e9",
   "metadata": {},
   "outputs": [
    {
     "name": "stdout",
     "output_type": "stream",
     "text": [
      "Experiment ID: 959268168270051133, Name: Renamed_Experiment\n",
      "Experiment ID: 678057457486770417, Name: MLflow Model Registry Example\n",
      "Experiment ID: 824640624065164964, Name: Iris Classification Experiment2\n",
      "Experiment ID: 191308692135956385, Name: Iris Classification Experiment\n",
      "Experiment ID: 328990853911858228, Name: California Housing Regression Autologging\n"
     ]
    }
   ],
   "source": [
    "# Search for all active experiments\n",
    "experiments = mlflow.search_experiments(view_type=ViewType.ACTIVE_ONLY)\n",
    "\n",
    "# Display experiment names\n",
    "for exp in experiments:\n",
    "    print(f\"Experiment ID: {exp.experiment_id}, Name: {exp.name}\")"
   ]
  },
  {
   "cell_type": "markdown",
   "id": "78c8a3f0-6347-4f14-892a-3167907c297f",
   "metadata": {},
   "source": [
    "- **`view_type`**: This parameter specifies which experiments to include in the search results. we can use:\n",
    "  - `ViewType.ACTIVE_ONLY`: Only active experiments.\n",
    "  - `ViewType.DELETED_ONLY`: Only deleted experiments.\n",
    "  - `ViewType.ALL`: All experiments, both active and deleted.\n",
    "\n",
    "#### Filter experiments by name\n",
    "Here, we filter experiments by their name. The query returns experiments where the name is exactly `'Iris Classification Experiment'`."
   ]
  },
  {
   "cell_type": "code",
   "execution_count": 10,
   "id": "8d3dbcba-bc7d-434c-a207-a4bcdf780247",
   "metadata": {},
   "outputs": [
    {
     "name": "stdout",
     "output_type": "stream",
     "text": [
      "Experiment ID: 191308692135956385, Name: Iris Classification Experiment\n"
     ]
    }
   ],
   "source": [
    "# Search for an experiment with a specific name\n",
    "experiments = mlflow.search_experiments(\n",
    "    view_type=ViewType.ALL,\n",
    "    filter_string=\"name = 'Iris Classification Experiment'\"\n",
    ")\n",
    "\n",
    "# Display matching experiments\n",
    "for exp in experiments:\n",
    "    print(f\"Experiment ID: {exp.experiment_id}, Name: {exp.name}\")"
   ]
  },
  {
   "cell_type": "markdown",
   "id": "6658207e-4115-480a-8cbd-6bd14b784b67",
   "metadata": {},
   "source": [
    "- **`filter_string`**: A query string to filter the experiments based on specific criteria, such as name, creation time, last update time, or tags.\n",
    "\n",
    "#### Order experiments by creation time\n",
    "In this example, we search for all experiments and sort them by their creation time in ascending order."
   ]
  },
  {
   "cell_type": "code",
   "execution_count": 11,
   "id": "4e3c25ce-9c66-4db4-8a62-e1e897194bbc",
   "metadata": {},
   "outputs": [
    {
     "name": "stdout",
     "output_type": "stream",
     "text": [
      "Experiment ID: 328990853911858228, Name: California Housing Regression Autologging, Created At: 1724614767818\n",
      "Experiment ID: 191308692135956385, Name: Iris Classification Experiment, Created At: 1724749168776\n",
      "Experiment ID: 824640624065164964, Name: Iris Classification Experiment2, Created At: 1724856983795\n"
     ]
    }
   ],
   "source": [
    "# Search for experiments and order them by creation time in ascending order\n",
    "experiments = mlflow.search_experiments(\n",
    "    view_type=ViewType.ALL,\n",
    "    order_by=[\"creation_time ASC\"],\n",
    "    max_results = 3    \n",
    ")\n",
    "\n",
    "# Display experiment names and creation times\n",
    "for exp in experiments:\n",
    "    print(f\"Experiment ID: {exp.experiment_id}, Name: {exp.name}, Created At: {exp.creation_time}\")"
   ]
  },
  {
   "cell_type": "markdown",
   "id": "26412a91-176c-41a3-bdeb-34b3eb3ccdd5",
   "metadata": {},
   "source": [
    "- **`order_by`**: A list of columns to order the results by. We can specify whether the sorting should be ascending (`ASC`) or descending (`DESC`). The default is to sort by `last_update_time DESC`.\n",
    "- **`max_results`**: The maximum number of experiments to return. If not specified, it defaults to 1000. Be aware that some server backends might enforce their own limits. If our search returns more experiments than `max_results`, the results will be paginated. We can retrieve subsequent pages using the `page_token` from the first set of results.\n",
    "- **`page_token`**: If our query results are paginated, this token allows you to retrieve the next page of results.\n",
    "\n",
    "#### Filter by experiment tags\n",
    "This example demonstrates filtering experiments by a tag. We search for experiments tagged with `team = 'data-science'`."
   ]
  },
  {
   "cell_type": "code",
   "execution_count": 12,
   "id": "49d4ec8f-28dd-4250-832f-c5876daf396d",
   "metadata": {},
   "outputs": [
    {
     "name": "stdout",
     "output_type": "stream",
     "text": [
      "No experiments found.\n"
     ]
    }
   ],
   "source": [
    "# Search for experiments with a specific tag\n",
    "experiments = mlflow.search_experiments(\n",
    "    view_type=ViewType.ALL,\n",
    "    filter_string=\"tags.`team` = 'data-science'\"\n",
    ")\n",
    "\n",
    "# Display matching experiments\n",
    "if not experiments:\n",
    "  print(\"No experiments found.\")\n",
    "for exp in experiments:\n",
    "    print(f\"Experiment ID: {exp.experiment_id}, Name: {exp.name}, Tags: {exp.tags}\")"
   ]
  }
 ],
 "metadata": {
  "kernelspec": {
   "display_name": "Python 3 (ipykernel)",
   "language": "python",
   "name": "python3"
  },
  "language_info": {
   "codemirror_mode": {
    "name": "ipython",
    "version": 3
   },
   "file_extension": ".py",
   "mimetype": "text/x-python",
   "name": "python",
   "nbconvert_exporter": "python",
   "pygments_lexer": "ipython3",
   "version": "3.8.19"
  }
 },
 "nbformat": 4,
 "nbformat_minor": 5
}
