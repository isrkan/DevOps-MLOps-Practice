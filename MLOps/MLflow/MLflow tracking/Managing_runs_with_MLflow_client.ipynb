{
 "cells": [
  {
   "cell_type": "markdown",
   "id": "84ecc9e1-bc79-49b8-86d2-a52582bc1bb7",
   "metadata": {},
   "source": [
    "# Managing runs and tracking with MLflow client\n",
    "\n",
    "In this notebook, we will explore how to manage runs using the MLflow client. MLflow client API provides more control over individual runs compared to the high-level MLflow functions, enabling us to programmatically manage the lifecycle of runs, track their progress, and log various parameters, metrics, and artifacts."
   ]
  },
  {
   "cell_type": "code",
   "execution_count": 1,
   "id": "e1d0407e-98d1-4596-83a8-fbe2a6b64942",
   "metadata": {},
   "outputs": [],
   "source": [
    "import mlflow\n",
    "from mlflow.tracking import MlflowClient\n",
    "from mlflow.entities import Metric, Param, RunTag, DatasetInput\n",
    "import matplotlib.pyplot as plt\n",
    "import numpy as np"
   ]
  },
  {
   "cell_type": "markdown",
   "id": "510ccfaf-c881-413a-982c-e6b798238323",
   "metadata": {},
   "source": [
    "### Setting up the MLflow client\n",
    "\n",
    "First, we need to set up the MLflow client, which allows us to interact with the MLflow tracking server."
   ]
  },
  {
   "cell_type": "code",
   "execution_count": 2,
   "id": "95284a5d-5c3e-4f9e-a369-bee3d578a2f7",
   "metadata": {},
   "outputs": [],
   "source": [
    "# Create an MLflow client instance\n",
    "client = MlflowClient()"
   ]
  },
  {
   "cell_type": "markdown",
   "id": "3b1b6945-cd76-4492-9b82-b46a5067e9aa",
   "metadata": {},
   "source": [
    "### Creating an experiment\n",
    "To create a new experiment, we can use the `create_experiment()` method of the `MlflowClient` class. This method requires the name of the experiment and optionally takes a location where artifacts are stored."
   ]
  },
  {
   "cell_type": "code",
   "execution_count": 3,
   "id": "d1705522-4efd-4684-8ec7-4af6500df063",
   "metadata": {},
   "outputs": [
    {
     "name": "stdout",
     "output_type": "stream",
     "text": [
      "Created experiment with ID: 227093852424597638\n"
     ]
    }
   ],
   "source": [
    "# Create a new experiment\n",
    "experiment_id = client.create_experiment(name=\"Run_Management_Experiment\")\n",
    "\n",
    "print(f\"Created experiment with ID: {experiment_id}\")"
   ]
  },
  {
   "cell_type": "markdown",
   "id": "0f3a8e8f-49cc-44bf-a9eb-ce3bb1c8667e",
   "metadata": {},
   "source": [
    "### Creating runs\n",
    "In MLflow, we can manage runs using the MlflowClient method `create_run`, as well as the higher-level `mlflow.start_run()` function. This function is particularly useful when we need fine-grained control over the run creation process, such as specifying tags, a run name, or using a specific experiment ID. "
   ]
  },
  {
   "cell_type": "code",
   "execution_count": 4,
   "id": "46d3a744-6baa-4819-9925-e3f6a075782d",
   "metadata": {},
   "outputs": [
    {
     "name": "stdout",
     "output_type": "stream",
     "text": [
      "Started run with ID: dc9384d036974781a9dadbbe6d31558a and name: My_First_Run\n"
     ]
    }
   ],
   "source": [
    "# Define the run tags\n",
    "tags = {\"version\": \"1.0\", \"model_type\": \"classification\"}\n",
    "\n",
    "# Create a run with specific parameters\n",
    "run = client.create_run(\n",
    "    experiment_id=experiment_id, \n",
    "    tags=tags, \n",
    "    run_name=\"My_First_Run\"\n",
    ")\n",
    "\n",
    "print(f\"Started run with ID: {run.info.run_id} and name: My_First_Run\")"
   ]
  },
  {
   "cell_type": "markdown",
   "id": "0b3a6a7f-709f-48d9-9482-629bc9183482",
   "metadata": {},
   "source": [
    "- **`create_run(experiment_id, tags, run_name)`**: Create a new run within an experiment. We can specify:\n",
    "    - `experiment_id` - The string ID of the experiment to create a run in.\n",
    "    - `tags` (Optional) - A dictionary of key-value pairs that represent metadata for the run.\n",
    "    - `run_name` (Optional) - The name of this run.\n",
    " \n",
    "### Getting a run\n",
    "Once we have created a run in MLflow, we might want to retrieve it later to inspect its details, such as parameters, metrics, or tags, or to perform further analysis. MLflow provides the `MlflowClient.get_run()` method to fetch a specific run using its unique run ID."
   ]
  },
  {
   "cell_type": "code",
   "execution_count": 5,
   "id": "ef92ce8b-e2ad-48c5-9015-0804a596f597",
   "metadata": {},
   "outputs": [
    {
     "name": "stdout",
     "output_type": "stream",
     "text": [
      "Retrieved run with ID: dc9384d036974781a9dadbbe6d31558a\n",
      "Run name: My_First_Run\n",
      "Run parameters: {}\n",
      "Run metrics: {}\n",
      "Run tags: {'mlflow.runName': 'My_First_Run', 'model_type': 'classification', 'version': '1.0'}\n"
     ]
    }
   ],
   "source": [
    "# Retrieve the run using its run ID\n",
    "retrieved_run = client.get_run(run.info.run_id)\n",
    "\n",
    "# Print the run's information\n",
    "print(f\"Retrieved run with ID: {retrieved_run.info.run_id}\")\n",
    "print(f\"Run name: {retrieved_run.data.tags.get('mlflow.runName')}\")\n",
    "print(f\"Run parameters: {retrieved_run.data.params}\")\n",
    "print(f\"Run metrics: {retrieved_run.data.metrics}\")\n",
    "print(f\"Run tags: {retrieved_run.data.tags}\")"
   ]
  },
  {
   "cell_type": "markdown",
   "id": "b8635974-e062-44df-bf1c-5e56ec5046d7",
   "metadata": {},
   "source": [
    "- **`get_run(run_id)`**: This function gets the run ID returns a Run object that contains all the details about the run, including:\n",
    "    - **`info`**: Metadata about the run, such as `run_id`, `experiment_id`, `status`, and `start_time`.\n",
    "    - **`data`**: Includes parameters, metrics, and tags that were logged during the run.\n",
    "\n",
    "### Logging parameters, metrics, and artifacts\n",
    "MLflow allows us to log parameters, metrics, and artifacts for each run. When using the `MlflowClient`, we must specify the `run_id` when logging these elements.\n",
    "\n",
    "#### Logging parameters\n",
    "Parameters are key-value pairs of input variables that influence the model training process."
   ]
  },
  {
   "cell_type": "code",
   "execution_count": 6,
   "id": "bf23758a-6613-490c-aeaa-e45e0c55c8b6",
   "metadata": {},
   "outputs": [
    {
     "name": "stdout",
     "output_type": "stream",
     "text": [
      "Logged parameters for run ID: dc9384d036974781a9dadbbe6d31558a\n"
     ]
    }
   ],
   "source": [
    "# Log parameters\n",
    "client.log_param(run.info.run_id, \"param1\", 5)\n",
    "client.log_param(run.info.run_id, \"param2\", \"value\")\n",
    "print(f\"Logged parameters for run ID: {run.info.run_id}\")"
   ]
  },
  {
   "cell_type": "markdown",
   "id": "18fe39c0-2188-4de9-a6a6-f038b3e51862",
   "metadata": {},
   "source": [
    "- **`log_param(run_id, key, value)`**: Logs a parameter for the specified run.\n",
    "  - `run_id`: The id of the run where the parameter should be logged.\n",
    "  - `key`: The name of the parameter (e.g., `\"param1\"`).\n",
    "  - `value`: The value of the parameter (e.g., `5` or `\"value\"`).\n",
    "\n",
    "#### Logging metrics\n",
    "Metrics are key-value pairs that record the performance of the model over time. They can be logged multiple times during a run to track changes or improvements."
   ]
  },
  {
   "cell_type": "code",
   "execution_count": 7,
   "id": "5b8e7fdd-b2ef-4cf0-866a-503207057718",
   "metadata": {},
   "outputs": [
    {
     "name": "stdout",
     "output_type": "stream",
     "text": [
      "Logged metrics for run ID: dc9384d036974781a9dadbbe6d31558a\n"
     ]
    }
   ],
   "source": [
    "# Log metrics\n",
    "client.log_metric(run.info.run_id, \"accuracy\", 0.85)\n",
    "client.log_metric(run.info.run_id, \"loss\", 0.15)\n",
    "print(f\"Logged metrics for run ID: {run.info.run_id}\")"
   ]
  },
  {
   "cell_type": "markdown",
   "id": "af4e4bcf-2a26-4269-82a4-d82aca65694a",
   "metadata": {},
   "source": [
    "- **`log_metric(run_id, key, value)`**: Logs a metric for the specified run. Metrics can be logged multiple times for the same key, allowing you to track the metric over time.\n",
    "  - `run_id`: The id of the run where the metric should be logged.\n",
    "  - `key`: The name of the metric (e.g., `\"accuracy\"`).\n",
    "  - `value`: The metric's value (e.g., `0.85`).\n",
    "\n",
    "#### Logging artifacts\n",
    "Artifacts are output files produced by the model, such as plots, images, or serialized models."
   ]
  },
  {
   "cell_type": "code",
   "execution_count": 8,
   "id": "f0e72c51-e95a-4304-a752-95cee6cb196b",
   "metadata": {},
   "outputs": [
    {
     "name": "stdout",
     "output_type": "stream",
     "text": [
      "Logged artifact for run ID: dc9384d036974781a9dadbbe6d31558a\n"
     ]
    },
    {
     "data": {
      "image/png": "[encoded data removed]",
      "text/plain": [
       "<Figure size 640x480 with 1 Axes>"
      ]
     },
     "metadata": {},
     "output_type": "display_data"
    }
   ],
   "source": [
    "# Generate and save a plot as an artifact\n",
    "x = np.linspace(0, 2 * np.pi, 100)\n",
    "y = np.sin(x)\n",
    "\n",
    "plt.plot(x, y)\n",
    "plt.title(\"Sample Plot\")\n",
    "plt.savefig(\"plot.png\")\n",
    "\n",
    "# Log the plot artifact\n",
    "client.log_artifact(run.info.run_id, \"plot.png\")\n",
    "print(f\"Logged artifact for run ID: {run.info.run_id}\")"
   ]
  },
  {
   "cell_type": "markdown",
   "id": "f1f17260-607f-4c08-849b-2ebfde865a3b",
   "metadata": {},
   "source": [
    "- **`log_artifact(run_id, local_path, artifact_path=None)`**: Logs an artifact (a file or directory) for the specified run.\n",
    "  - `run_id`: The id of the run where the artifact should be logged.\n",
    "  - `local_path`: The path to the local file or directory to log as an artifact.\n",
    "  - `artifact_path` (Optional): A destination within the artifact store where the artifact should be logged. If not specified, the artifact is logged at the root of the artifact directory for the run.\n",
    " \n",
    "#### Logging batches of metrics, parameters, and tags\n",
    "If we need to log multiple metrics, parameters, or tags at once, we can use the `log_batch()` method. This is more efficient when we have many items to log in a single step."
   ]
  },
  {
   "cell_type": "code",
   "execution_count": 9,
   "id": "b66443db-a33c-4504-b003-3e3784f115c4",
   "metadata": {},
   "outputs": [
    {
     "name": "stdout",
     "output_type": "stream",
     "text": [
      "Logged batch for run ID: dc9384d036974781a9dadbbe6d31558a\n"
     ]
    }
   ],
   "source": [
    "# Log a batch of metrics, parameters, and tags\n",
    "metrics = [Metric(key=\"f1\", value=0.85, timestamp=123, step=1),\n",
    "           Metric(key=\"precision\", value=0.75, timestamp=123, step=1)]\n",
    "params = [Param(key=\"param3\", value=\"7\"),\n",
    "          Param(key=\"param4\", value=\"value2\")]\n",
    "tags = [RunTag(key=\"framework\", value=\"sklearn\")]\n",
    "\n",
    "client.log_batch(run.info.run_id, metrics=metrics, params=params, tags=tags)\n",
    "print(f\"Logged batch for run ID: {run.info.run_id}\")"
   ]
  },
  {
   "cell_type": "markdown",
   "id": "69b96e2c-586b-4394-8c5c-d7d89dc3fd6e",
   "metadata": {},
   "source": [
    "- **`log_batch(run_id, metrics=(), params=(), tags=(), synchronous=None)`**: Logs a batch of metrics, parameters, and tags for the specified run.\n",
    "  - `run_id`: The id of the run where the batch should be logged.\n",
    "  - `metrics`: A sequence of `Metric` objects to log.\n",
    "  - `params`: A sequence of `Param` objects to log.\n",
    "  - `tags`: A sequence of `RunTag` objects to log.\n",
    "  - `synchronous`: If `True`, wait for the logging to complete before returning.\n",
    "\n",
    "#### Logging dictionaries as artifacts\n",
    "If we want to log an entire dictionary as an artifact (e.g., model configuration or results), we can use the `log_dict()` function. This stores the dictionary as a JSON file in the artifact store."
   ]
  },
  {
   "cell_type": "code",
   "execution_count": 10,
   "id": "d53f7448-9fc0-4352-9778-4399a0954a30",
   "metadata": {},
   "outputs": [
    {
     "name": "stdout",
     "output_type": "stream",
     "text": [
      "Logged dictionary artifact for run ID: dc9384d036974781a9dadbbe6d31558a\n"
     ]
    }
   ],
   "source": [
    "# Log a dictionary as an artifact\n",
    "config_dict = {\"param1\": 5, \"param2\": \"value\", \"accuracy\": 0.85}\n",
    "client.log_dict(run.info.run_id, config_dict, \"config.json\")\n",
    "print(f\"Logged dictionary artifact for run ID: {run.info.run_id}\")"
   ]
  },
  {
   "cell_type": "markdown",
   "id": "ba00c0b7-53a3-4c01-94b5-2eaa4052f40c",
   "metadata": {},
   "source": [
    "- **`log_dict(run_id, dictionary, artifact_file)`**: Logs a dictionary as a JSON artifact.\n",
    "  - `run_id`: The id of the run where the dictionary should be logged.\n",
    "  - `dictionary`: The dictionary to log.\n",
    "  - `artifact_file`: The name of the file to save the dictionary as (e.g., `\"config.json\"`).\n",
    "\n",
    "#### Logging text as an artifact\n",
    "When we need to log plain text (e.g., logs, descriptions, or model summaries) as an artifact, we can use the `log_text()` function. This function stores the text in a file within the artifact store."
   ]
  },
  {
   "cell_type": "code",
   "execution_count": 11,
   "id": "7c50d9ae-cce4-4936-9062-76771b23919f",
   "metadata": {},
   "outputs": [
    {
     "name": "stdout",
     "output_type": "stream",
     "text": [
      "Logged text artifact for run ID: dc9384d036974781a9dadbbe6d31558a\n"
     ]
    }
   ],
   "source": [
    "# Log a text file as an artifact\n",
    "log_text = \"Model trained with parameters: param1=5, param2=value\"\n",
    "client.log_text(run.info.run_id, log_text, \"train_log.txt\")\n",
    "print(f\"Logged text artifact for run ID: {run.info.run_id}\")"
   ]
  },
  {
   "cell_type": "markdown",
   "id": "00030ef9-4afe-4184-9e2a-cf3f3c69e3cb",
   "metadata": {},
   "source": [
    "- **`log_text(run_id, text, artifact_file)`**: Logs a string of text as an artifact.\n",
    "  - `run_id`: The id of the run where the text should be logged.\n",
    "  - `text`: The text content to log.\n",
    "  - `artifact_file`: The name of the file to save the text as (e.g., `\"train_log.txt\"`).\n",
    "\n",
    "#### Downloading artifacts\n",
    "The `download_artifacts()` function allows us to download artifacts (files or directories) associated with a specific run. This is useful when we need to retrieve output files, such as model files, plots, or logs, from a remote MLflow server."
   ]
  },
  {
   "cell_type": "code",
   "execution_count": 12,
   "id": "359382e4-58f6-45c7-9bc7-0994d2cc7de4",
   "metadata": {},
   "outputs": [
    {
     "data": {
      "application/vnd.jupyter.widget-view+json": {
       "model_id": "fd672cc09b4243598076fbf8de7dc8b7",
       "version_major": 2,
       "version_minor": 0
      },
      "text/plain": [
       "Downloading artifacts:   0%|          | 0/3 [00:00<?, ?it/s]"
      ]
     },
     "metadata": {},
     "output_type": "display_data"
    },
    {
     "name": "stdout",
     "output_type": "stream",
     "text": [
      "Artifacts downloaded to: C:\\Users\\israe\\\n"
     ]
    }
   ],
   "source": [
    "# Download artifacts from a run\n",
    "local_dir = client.download_artifacts(run.info.run_id, path=\"\", dst_path=\"C:/Users/israe\")\n",
    "print(f\"Artifacts downloaded to: {local_dir}\")"
   ]
  },
  {
   "cell_type": "markdown",
   "id": "2d2ff41b-560a-4728-8fe2-198a51668b5b",
   "metadata": {},
   "source": [
    "- **`download_artifacts(run_id, path, dst_path=None)`**: Downloads artifacts from a specified run to a local directory.\n",
    "  - `run_id`: The id of the run from which to download artifacts.\n",
    "  - `path`: The relative path of the artifact within the run’s artifact directory. If empty, will download all the artifact directory.\n",
    "  - `dst_path` (Optional): The local directory to download the artifact to. If not specified, a temporary directory will be created.\n",
    "  - **Returns**: The local path to the downloaded artifact.\n",
    "\n",
    "### Terminating a run\n",
    "In MLflow, it is important to explicitly terminate a run to ensure that its status is correctly updated. By default, if a run is not terminated, its status will remain as 'running'. Properly terminating a run helps in tracking the completion of experiments and ensures that all logs and artifacts are finalized. To terminate a run, we can use the `set_terminated` method provided by the `MlflowClient`. This method updates the status of a run to a specified value, such as 'FINISHED', 'FAILED', 'KILLED', 'RUNNING', or 'SCHEDULED'."
   ]
  },
  {
   "cell_type": "code",
   "execution_count": 13,
   "id": "5bf03d3a-3dc6-45ec-ab80-84dee362cd4e",
   "metadata": {},
   "outputs": [
    {
     "name": "stdout",
     "output_type": "stream",
     "text": [
      "Run with ID: dc9384d036974781a9dadbbe6d31558a has been terminated with status: FINISHED\n"
     ]
    }
   ],
   "source": [
    "# Terminate a run\n",
    "client.set_terminated(run.info.run_id, status=\"FINISHED\")\n",
    "print(f\"Run with ID: {run.info.run_id} has been terminated with status: FINISHED\")"
   ]
  },
  {
   "cell_type": "markdown",
   "id": "7d01752b-a3bd-457e-9b79-22394607383b",
   "metadata": {},
   "source": [
    "- **`set_terminated(run_id, status)`**: This function is used to set the final status of a run.\n",
    "  - `run_id`: The id of the run we want to terminate.\n",
    "  - `status`: The final status of the run, which can be one of the following:\n",
    "    - `\"FINISHED\"`: (Default) The run completed successfully.\n",
    "    - `\"FAILED\"`: The run failed.\n",
    "    - `\"KILLED\"`: The run was manually stopped.\n",
    "    - `\"RUNNING\"`: The run is still running.\n",
    "    - `\"SCHEDULED\"`: The run is scheduled but not yet started.\n",
    "\n",
    "Another way to terminate a run is by using the `update_run` method. This method allows us to update various properties of a run, including its status. This method is useful if we need to update multiple attributes of a run at once.\n",
    "\n",
    "### Tracking with tags and descriptions\n",
    "Tags and descriptions can be used to add additional metadata to runs, making it easier to organize and search for them.\n",
    "\n",
    "#### Adding tags to a run\n",
    "We can add tags to a run using the `set_tag` method of the `MlflowClient`. This method allows us to specify tags even after the run has been created."
   ]
  },
  {
   "cell_type": "code",
   "execution_count": 14,
   "id": "e81c74dc-d0e7-4832-987b-ff16cc86c9c4",
   "metadata": {},
   "outputs": [
    {
     "name": "stdout",
     "output_type": "stream",
     "text": [
      "Tags have been added to run ID: dc9384d036974781a9dadbbe6d31558a\n"
     ]
    }
   ],
   "source": [
    "# Add tags to a run\n",
    "client.set_tag(run.info.run_id, \"tag1\", \"value1\")\n",
    "client.set_tag(run.info.run_id, \"model_version\", \"v1.0\")\n",
    "print(f\"Tags have been added to run ID: {run.info.run_id}\")"
   ]
  },
  {
   "cell_type": "markdown",
   "id": "52868c8e-5680-457f-bab3-019ef043ac7c",
   "metadata": {},
   "source": [
    "- **`set_tag(run_id, key, value)`**: Adds or updates a tag for a specific run.\n",
    "  - `run_id`: The unique identifier of the run to which we want to add or update a tag.\n",
    "  - `key`: The tag's key (e.g., `\"tag1\"` or `\"model_version\"`).\n",
    "  - `value`: The value associated with the tag (e.g., `\"value1\"` or `\"v1.0\"`).\n",
    "\n",
    "#### Adding a description to a run\n",
    "Descriptions can be added to a run are added as a special tag with the key `mlflow.note.content`."
   ]
  },
  {
   "cell_type": "code",
   "execution_count": 15,
   "id": "d96818fe-c45b-4051-a793-2266ae8bb350",
   "metadata": {},
   "outputs": [
    {
     "name": "stdout",
     "output_type": "stream",
     "text": [
      "Description has been set for run ID: dc9384d036974781a9dadbbe6d31558a\n"
     ]
    }
   ],
   "source": [
    "# Set a description for a run\n",
    "description = \"This run uses a random forest model with 100 trees.\"\n",
    "client.set_tag(run.info.run_id, \"mlflow.note.content\", description)\n",
    "print(f\"Description has been set for run ID: {run.info.run_id}\")"
   ]
  },
  {
   "cell_type": "markdown",
   "id": "80105957-de6e-477e-b704-d86611dd2a8b",
   "metadata": {},
   "source": [
    "- **`set_tag(run_id, key, value)`**: This method is also used to add descriptions. By using the key `mlflow.note.content`, we can store a descriptive note about the run.\n",
    "  - `run_id`: The unique identifier of the run to which you want to add the description.\n",
    "  - `key`: Set to `\"mlflow.note.content\"` for descriptions.\n",
    "  - `value`: The description text.\n",
    "\n",
    "#### Deleting a run tag\n",
    "We can delete a specific tag from a run using the `delete_tag` method provided by the `MlflowClient`. This operation is irreversible, meaning once a tag is deleted, it cannot be recovered."
   ]
  },
  {
   "cell_type": "code",
   "execution_count": 16,
   "id": "73d21081-460e-4913-8e1b-6b8c51f4b9b1",
   "metadata": {},
   "outputs": [
    {
     "name": "stdout",
     "output_type": "stream",
     "text": [
      "Tag 'tag1' has been deleted from run ID: dc9384d036974781a9dadbbe6d31558a\n"
     ]
    }
   ],
   "source": [
    "# Delete a tag from a run\n",
    "client.delete_tag(run.info.run_id, \"tag1\")\n",
    "print(f\"Tag 'tag1' has been deleted from run ID: {run.info.run_id}\")"
   ]
  },
  {
   "cell_type": "markdown",
   "id": "923c3d0e-d2e9-4816-9b87-c4cccb5077d9",
   "metadata": {},
   "source": [
    "- **`delete_tag(run_id, key)`**: Deletes a tag from a specified run.\n",
    "  - `run_id`: The id of the run from which we want to delete the tag.\n",
    "  - `key`: The key of the tag we want to delete.\n",
    "\n",
    "### Updating, deleting, and restoring runs\n",
    "MLflow provides flexible options for managing runs, including updating their status or name, deleting them, and restoring previously deleted runs.\n",
    "\n",
    "#### Updating run\n",
    "We can update the status or name of an existing run using the `update_run()` method. This is particularly useful if we need to change a run’s status to something other than `FINISHED` or to rename a run for better clarity."
   ]
  },
  {
   "cell_type": "code",
   "execution_count": 17,
   "id": "5b64687e-c538-48d5-bdd3-3590e205b1a7",
   "metadata": {},
   "outputs": [
    {
     "name": "stdout",
     "output_type": "stream",
     "text": [
      "Run ID: dc9384d036974781a9dadbbe6d31558a has been updated with status 'FAILED' and new name 'Updated_Run_Name'\n"
     ]
    }
   ],
   "source": [
    "# Update a run's status and name\n",
    "client.update_run(run_id=run.info.run_id, status=\"FAILED\", name=\"Updated_Run_Name\")\n",
    "print(f\"Run ID: {run.info.run_id} has been updated with status 'FAILED' and new name 'Updated_Run_Name'\")"
   ]
  },
  {
   "cell_type": "markdown",
   "id": "ebe0cc7a-e6b6-4281-aaf4-b5b996fa0cf8",
   "metadata": {},
   "source": [
    "- **`update_run(run_id, status=None, name=None)`**: Updates the status or name of a run.\n",
    "  - `run_id`: The unique identifier of the run to update.\n",
    "  - `status`: The new status for the run, which can be one of `\"FINISHED\"`, `\"FAILED\"`, `\"KILLED\"`, `\"RUNNING\"`, or `\"SCHEDULED\"`. If not specified, the status remains unchanged.\n",
    "  - `name`: The new name for the run. If not specified, the name remains unchanged.\n",
    "\n",
    "#### Deleting a run\n",
    "To remove a run from the active state, use the `delete_run()` method. This action marks the run as deleted."
   ]
  },
  {
   "cell_type": "code",
   "execution_count": 18,
   "id": "7fd6350e-af64-477a-a55c-8ec3e8bfe015",
   "metadata": {},
   "outputs": [
    {
     "name": "stdout",
     "output_type": "stream",
     "text": [
      "Run ID: dc9384d036974781a9dadbbe6d31558a has been deleted.\n"
     ]
    }
   ],
   "source": [
    "# Delete a run by ID\n",
    "client.delete_run(run.info.run_id)\n",
    "print(f\"Run ID: {run.info.run_id} has been deleted.\")"
   ]
  },
  {
   "cell_type": "markdown",
   "id": "da66ed96-bf2a-4cd7-8246-1f6399bbe452",
   "metadata": {},
   "source": [
    "- **`delete_run(run_id)`**: Marks a run as deleted. Note that this is a soft delete, meaning the run is marked as deleted but its data is not removed.\n",
    "  - `run_id`: The unique identifier of the run to delete.\n",
    "\n",
    "#### Restoring a deleted run\n",
    "If a run has been accidentally deleted or needs to be reactivated, we can restore it using the `restore_run()` method. This moves the run back to an active state."
   ]
  },
  {
   "cell_type": "code",
   "execution_count": 19,
   "id": "de0ab391-554f-4b9c-b4b6-1a61d7b2a9f6",
   "metadata": {},
   "outputs": [
    {
     "name": "stdout",
     "output_type": "stream",
     "text": [
      "Run ID: dc9384d036974781a9dadbbe6d31558a has been restored.\n"
     ]
    }
   ],
   "source": [
    "# Restore a deleted run by ID\n",
    "client.restore_run(run_id=run.info.run_id)\n",
    "print(f\"Run ID: {run.info.run_id} has been restored.\")"
   ]
  },
  {
   "cell_type": "markdown",
   "id": "7fa9bd7b-3968-4e58-9d82-f65f4385d300",
   "metadata": {},
   "source": [
    "- **`restore_run(run_id)`**: Restores a previously deleted run to an active state.\n",
    "  - `run_id`: The unique identifier of the run to restore.\n",
    "\n",
    "### Searching runs\n",
    "MLflow provides the `search_runs()` function to query and filter runs within an experiment. This is useful when we need to find specific runs based on certain criteria, such as filtering by metrics, parameters, or tags. \n",
    "\n",
    "#### Listing all runs\n",
    "To list all runs within a specific experiment, we can use `search_runs()` without any filters. This will return all runs for the specified experiment ID(s)."
   ]
  },
  {
   "cell_type": "code",
   "execution_count": 20,
   "id": "630b392c-f548-441b-aa3a-01e6c7a5fb36",
   "metadata": {},
   "outputs": [
    {
     "name": "stdout",
     "output_type": "stream",
     "text": [
      "Run ID: dc9384d036974781a9dadbbe6d31558a, Status: FAILED\n"
     ]
    }
   ],
   "source": [
    "# List all runs for a given experiment\n",
    "runs = client.search_runs(experiment_ids=[experiment_id])\n",
    "for run in runs:\n",
    "    print(f\"Run ID: {run.info.run_id}, Status: {run.info.status}\")"
   ]
  },
  {
   "cell_type": "markdown",
   "id": "865a5b8b-988e-456a-9804-ed943c6c1c63",
   "metadata": {},
   "source": [
    "- **`search_runs(experiment_ids, filter_string='', run_view_type=1, max_results=1000, order_by=None, page_token=None)`**: Searches for runs in the specified experiment(s).\n",
    "  - `experiment_ids`: A list of experiment IDs to search within.\n",
    "  - `filter_string` (Optional): A query string to filter results.\n",
    "  - `run_view_type` (Optional): Specifies the type of runs to return. Defaults to `1` (active runs).\n",
    "  - `max_results` (Optional): The maximum number of runs to return. Defaults to `1000`.\n",
    "  - `order_by` (Optional): A list of fields to order the results by (e.g., `[\"metrics.accuracy DESC\"]`).\n",
    "  - `page_token` (Optional): For paginated results, the token to retrieve the next page.\n",
    "\n",
    "\n",
    "#### Filtering runs\n",
    "We can filter runs based on specific criteria using the `filter_string` parameter. For example, we might want to find all runs where the accuracy metric is greater than a certain threshold."
   ]
  },
  {
   "cell_type": "code",
   "execution_count": 21,
   "id": "1cdaffd4-0f48-4791-a4fa-1a00d8b36492",
   "metadata": {},
   "outputs": [
    {
     "name": "stdout",
     "output_type": "stream",
     "text": [
      "Run ID: dc9384d036974781a9dadbbe6d31558a, Accuracy: 0.85\n"
     ]
    }
   ],
   "source": [
    "# Search runs with a filter\n",
    "runs = client.search_runs(\n",
    "    experiment_ids=experiment_id, \n",
    "    filter_string=\"metrics.accuracy > 0.8\"\n",
    ")\n",
    "\n",
    "for run in runs:\n",
    "    print(f\"Run ID: {run.info.run_id}, Accuracy: {run.data.metrics['accuracy']}\")"
   ]
  },
  {
   "cell_type": "markdown",
   "id": "dc7eede2-21d1-44a2-b6da-07c4263f93ca",
   "metadata": {},
   "source": [
    "- **`filter_string`**: A filter expression to narrow down the search. We can filter by metrics, parameters, tags, and more.\n",
    "  - Example: `\"metrics.accuracy > 0.8 AND params.model_type = 'random_forest'\"`.\n",
    "\n",
    "#### Ordering runs\n",
    "To sort the search results, we can use the `order_by` parameter. This allows us to sort runs based on metrics, parameters, or other attributes."
   ]
  },
  {
   "cell_type": "code",
   "execution_count": 22,
   "id": "f622886a-9028-4a2d-b2a5-f1f6f52a3974",
   "metadata": {},
   "outputs": [
    {
     "name": "stdout",
     "output_type": "stream",
     "text": [
      "Run ID: dc9384d036974781a9dadbbe6d31558a, Accuracy: 0.85\n"
     ]
    }
   ],
   "source": [
    "# Search and order runs by accuracy in descending order\n",
    "runs = client.search_runs(\n",
    "    experiment_ids=experiment_id, \n",
    "    order_by=[\"metrics.accuracy DESC\"]\n",
    ")\n",
    "\n",
    "for run in runs:\n",
    "    print(f\"Run ID: {run.info.run_id}, Accuracy: {run.data.metrics['accuracy']}\")"
   ]
  },
  {
   "cell_type": "markdown",
   "id": "4eeb62a0-d64a-4b35-9738-fec37464b79b",
   "metadata": {},
   "source": [
    "- **`order_by`**: A list of fields to order the results by. We can specify the field name and order (e.g., `\"ASC\"` for ascending or `\"DESC\"` for descending).\n",
    "  - Example: `[\"metrics.accuracy DESC\"]` to order by accuracy in descending order.\n",
    "\n",
    "#### Filtering by run tags\n",
    "We can also filter runs based on specific tags. This is useful if we have added custom tags to our runs and want to retrieve runs that match certain tag values."
   ]
  },
  {
   "cell_type": "code",
   "execution_count": 23,
   "id": "1a559d6b-9d6c-4bbf-a3f1-19cecc790867",
   "metadata": {},
   "outputs": [
    {
     "name": "stdout",
     "output_type": "stream",
     "text": [
      "Run ID: dc9384d036974781a9dadbbe6d31558a, Model Version: v1.0\n"
     ]
    }
   ],
   "source": [
    "# Search runs with a specific tag\n",
    "filter_string = \"tags.model_version = 'v1.0'\"\n",
    "runs = client.search_runs(experiment_ids=experiment_id, filter_string=filter_string)\n",
    "\n",
    "for run in runs:\n",
    "    print(f\"Run ID: {run.info.run_id}, Model Version: {run.data.tags['model_version']}\")"
   ]
  },
  {
   "cell_type": "markdown",
   "id": "b654f9f6-b71a-4198-bade-0f67d08efcd4",
   "metadata": {},
   "source": [
    "- **Filtering by Tags**: Use the `tags.<tag_name>` syntax in the `filter_string` to filter runs by specific tags.\n",
    "  - Example: `\"tags.model_version = 'v1.0'\"` to find runs with the tag `model_version` set to `'v1.0'`.\n",
    "\n",
    "### Retrieving metric history\n",
    "The `get_metric_history()` function allows us to retrieve the history of a particular metric for a run. This is particularly useful for analyzing how a deep learning model’s performance metric, such as accuracy or loss, changes over time during training."
   ]
  },
  {
   "cell_type": "code",
   "execution_count": 24,
   "id": "ad4f53f1-7c79-416e-838b-d3cd55d99afd",
   "metadata": {},
   "outputs": [
    {
     "name": "stdout",
     "output_type": "stream",
     "text": [
      "Step: 0, Value: 0.85\n"
     ]
    }
   ],
   "source": [
    "# Get the history of a metric from a run\n",
    "metric_history = client.get_metric_history(run.info.run_id, \"accuracy\")\n",
    "for metric in metric_history:\n",
    "    print(f\"Step: {metric.step}, Value: {metric.value}\")"
   ]
  },
  {
   "cell_type": "markdown",
   "id": "51df267f-13ac-42a2-ac5e-efc952faa2ce",
   "metadata": {},
   "source": [
    "- **`get_metric_history(run_id, key)`**: Retrieves the history of a specific metric logged during a run.\n",
    "  - `run_id`: The id of the run from which to retrieve the metric history.\n",
    "  - `key`: The name of the metric to retrieve (e.g., `\"accuracy\"`).\n",
    "  - **Returns**: A list of `Metric` objects, each representing a logged value of the metric at a specific step."
   ]
  }
 ],
 "metadata": {
  "kernelspec": {
   "display_name": "Python 3 (ipykernel)",
   "language": "python",
   "name": "python3"
  },
  "language_info": {
   "codemirror_mode": {
    "name": "ipython",
    "version": 3
   },
   "file_extension": ".py",
   "mimetype": "text/x-python",
   "name": "python",
   "nbconvert_exporter": "python",
   "pygments_lexer": "ipython3",
   "version": "3.8.19"
  }
 },
 "nbformat": 4,
 "nbformat_minor": 5
}
